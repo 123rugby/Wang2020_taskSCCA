{
 "cells": [
  {
   "cell_type": "code",
   "execution_count": 1,
   "metadata": {},
   "outputs": [],
   "source": [
    "cd -q ~/projects/Project_TaskSCCA/"
   ]
  },
  {
   "cell_type": "code",
   "execution_count": 2,
   "metadata": {},
   "outputs": [],
   "source": [
    "import os\n",
    "\n",
    "import matplotlib.pyplot as plt\n",
    "import seaborn as sns\n",
    "\n",
    "import numpy as np\n",
    "import pandas as pd\n",
    "\n",
    "from src.data_cleaning import clean_confound, select_mad_percentile\n",
    "from src.visualize import plot_mad_results\n",
    "\n",
    "sns.set_style({\"font.sans-serif\": [\"Arial\"]})\n",
    "sns.set_context('paper', font_scale=1.5)"
   ]
  },
  {
   "cell_type": "code",
   "execution_count": 3,
   "metadata": {},
   "outputs": [],
   "source": [
    "path_master = 'data/interim/df_master_p178.pkl'\n",
    "\n",
    "df_master = pd.read_pickle(path_master)\n",
    "\n",
    "X = df_master.iloc[:, 37:].apply(pd.to_numeric, errors='coerce')\n",
    "Y = df_master.iloc[:, 5:18].apply(pd.to_numeric, errors='coerce')\n",
    "confound = df_master.loc[:, ['AGE', 'GENDER', 'MeanFD_Jenkinson']].apply(pd.to_numeric, errors='coerce')\n",
    "\n",
    "COG_labels = df_master.columns[5:18]\n",
    "\n",
    "X = X.values\n",
    "Y = Y.values\n",
    "confound = confound.values"
   ]
  },
  {
   "cell_type": "code",
   "execution_count": 9,
   "metadata": {},
   "outputs": [
    {
     "data": {
      "text/plain": [
       "Index(['QD_MAIA_ND', 'QD_MAIA_NW', 'QD_MAIA_AR', 'QD_MAIA_EA', 'QD_MAIA_SR',\n",
       "       'QD_MAIA_BL', 'QD_MAIA_T', 'QD_MW_D', 'QD_MW_S', 'QD_RRS',\n",
       "       ...\n",
       "       '96 vs 97', '96 vs 98', '96 vs 99', '96 vs 100', '97 vs 98', '97 vs 99',\n",
       "       '97 vs 100', '98 vs 99', '98 vs 100', '99 vs 100'],\n",
       "      dtype='object', length=4971)"
      ]
     },
     "execution_count": 9,
     "metadata": {},
     "output_type": "execute_result"
    }
   ],
   "source": [
    "df_master.columns[50:]"
   ]
  },
  {
   "cell_type": "markdown",
   "metadata": {},
   "source": [
    "# Dimension reduction on the functional connectivity"
   ]
  },
  {
   "cell_type": "code",
   "execution_count": 4,
   "metadata": {},
   "outputs": [],
   "source": [
    "# select 95% of the edges\n",
    "\n",
    "# fc_mad = mad(X)\n",
    "# fc_mean = X.mean(axis=0)\n",
    "# _, mask_95 = select_mad_percentile(fc_mean, fc_mad, 95)\n",
    "\n",
    "# X_masked = X[:, mask_95]\n",
    "\n",
    "# # clean and z score the data\n",
    "# X_clean, Y_clean, confmat = clean_confound(X_masked, Y, confound)\n",
    "\n",
    "# save the cleaned data and the mask for the late analysis and reconstructing niftis\n",
    "# np.save('data/processed/X_clean', X_clean)\n",
    "# np.save('data/processed/Y_clean', Y_clean)\n",
    "# np.save('data/processed/X_mask', mask_95)\n",
    "# np.save('data/processed/confound', confmat)"
   ]
  },
  {
   "cell_type": "code",
   "execution_count": 5,
   "metadata": {},
   "outputs": [],
   "source": [
    "FC_reduction = plot_mad_results(X)"
   ]
  },
  {
   "cell_type": "code",
   "execution_count": 6,
   "metadata": {},
   "outputs": [
    {
     "data": {
      "image/png": "[encoded data removed]",
      "text/plain": [
       "<Figure size 432x288 with 1 Axes>"
      ]
     },
     "metadata": {
      "needs_background": "light"
     },
     "output_type": "display_data"
    }
   ],
   "source": [
    "FC_reduction.plot_mad_distroubtion('mad_percentile')"
   ]
  },
  {
   "cell_type": "code",
   "execution_count": 7,
   "metadata": {},
   "outputs": [
    {
     "ename": "ValueError",
     "evalue": "shape mismatch: value array of shape (4984,) could not be broadcast to indexing result of shape (4950,)",
     "output_type": "error",
     "traceback": [
      "\u001b[0;31m---------------------------------------------------------------------------\u001b[0m",
      "\u001b[0;31mValueError\u001b[0m                                Traceback (most recent call last)",
      "\u001b[0;32m<ipython-input-7-816745a029f7>\u001b[0m in \u001b[0;36m<module>\u001b[0;34m\u001b[0m\n\u001b[1;32m      1\u001b[0m FC_reduction.plot_mad_reduction('references/scorr05_2level_names_100.csv',\n\u001b[0;32m----> 2\u001b[0;31m                                 \u001b[0;34m'FC_mat'\u001b[0m\u001b[0;34m\u001b[0m\u001b[0;34m\u001b[0m\u001b[0m\n\u001b[0m\u001b[1;32m      3\u001b[0m                                )\n",
      "\u001b[0;32m~/projects/Project_TaskSCCA/src/visualize.py\u001b[0m in \u001b[0;36mplot_mad_reduction\u001b[0;34m(self, label_file, fn)\u001b[0m\n\u001b[1;32m    227\u001b[0m         '''\n\u001b[1;32m    228\u001b[0m \u001b[0;34m\u001b[0m\u001b[0m\n\u001b[0;32m--> 229\u001b[0;31m         \u001b[0mX_filtered\u001b[0m \u001b[0;34m=\u001b[0m \u001b[0;34m{\u001b[0m\u001b[0;34m'Full matix'\u001b[0m \u001b[0;34m:\u001b[0m \u001b[0munflatten\u001b[0m\u001b[0;34m(\u001b[0m\u001b[0mself\u001b[0m\u001b[0;34m.\u001b[0m\u001b[0mX_mean\u001b[0m\u001b[0;34m)\u001b[0m\u001b[0;34m}\u001b[0m\u001b[0;34m\u001b[0m\u001b[0;34m\u001b[0m\u001b[0m\n\u001b[0m\u001b[1;32m    230\u001b[0m         \u001b[0;32mfor\u001b[0m \u001b[0mi\u001b[0m \u001b[0;32min\u001b[0m \u001b[0mself\u001b[0m\u001b[0;34m.\u001b[0m\u001b[0mpr\u001b[0m\u001b[0;34m[\u001b[0m\u001b[0;34m:\u001b[0m\u001b[0;34m-\u001b[0m\u001b[0;36m1\u001b[0m\u001b[0;34m]\u001b[0m\u001b[0;34m:\u001b[0m\u001b[0;34m\u001b[0m\u001b[0;34m\u001b[0m\u001b[0m\n\u001b[1;32m    231\u001b[0m             \u001b[0mx_f\u001b[0m\u001b[0;34m,\u001b[0m \u001b[0m_\u001b[0m \u001b[0;34m=\u001b[0m \u001b[0mselect_mad_percentile\u001b[0m\u001b[0;34m(\u001b[0m\u001b[0mself\u001b[0m\u001b[0;34m.\u001b[0m\u001b[0mX_mean\u001b[0m\u001b[0;34m,\u001b[0m \u001b[0mself\u001b[0m\u001b[0;34m.\u001b[0m\u001b[0mX_mad\u001b[0m\u001b[0;34m,\u001b[0m \u001b[0mi\u001b[0m\u001b[0;34m)\u001b[0m\u001b[0;34m\u001b[0m\u001b[0;34m\u001b[0m\u001b[0m\n",
      "\u001b[0;32m~/projects/Project_TaskSCCA/src/utils.py\u001b[0m in \u001b[0;36munflatten\u001b[0;34m(corrmat_vect)\u001b[0m\n\u001b[1;32m    102\u001b[0m     \u001b[0midx\u001b[0m \u001b[0;34m=\u001b[0m \u001b[0mnp\u001b[0m\u001b[0;34m.\u001b[0m\u001b[0mtriu_indices\u001b[0m\u001b[0;34m(\u001b[0m\u001b[0mx\u001b[0m\u001b[0;34m,\u001b[0m \u001b[0;36m1\u001b[0m\u001b[0;34m)\u001b[0m\u001b[0;34m\u001b[0m\u001b[0;34m\u001b[0m\u001b[0m\n\u001b[1;32m    103\u001b[0m     \u001b[0mcorr_mat\u001b[0m \u001b[0;34m=\u001b[0m \u001b[0mnp\u001b[0m\u001b[0;34m.\u001b[0m\u001b[0mzeros\u001b[0m\u001b[0;34m(\u001b[0m\u001b[0;34m(\u001b[0m\u001b[0mx\u001b[0m\u001b[0;34m,\u001b[0m \u001b[0mx\u001b[0m\u001b[0;34m)\u001b[0m\u001b[0;34m)\u001b[0m\u001b[0;34m\u001b[0m\u001b[0;34m\u001b[0m\u001b[0m\n\u001b[0;32m--> 104\u001b[0;31m     \u001b[0mcorr_mat\u001b[0m\u001b[0;34m[\u001b[0m\u001b[0midx\u001b[0m\u001b[0;34m]\u001b[0m \u001b[0;34m=\u001b[0m \u001b[0mcorrmat_vect\u001b[0m\u001b[0;34m\u001b[0m\u001b[0;34m\u001b[0m\u001b[0m\n\u001b[0m\u001b[1;32m    105\u001b[0m     \u001b[0mcorr_mat\u001b[0m \u001b[0;34m=\u001b[0m \u001b[0mcorr_mat\u001b[0m \u001b[0;34m+\u001b[0m \u001b[0mcorr_mat\u001b[0m\u001b[0;34m.\u001b[0m\u001b[0mT\u001b[0m\u001b[0;34m\u001b[0m\u001b[0;34m\u001b[0m\u001b[0m\n\u001b[1;32m    106\u001b[0m \u001b[0;34m\u001b[0m\u001b[0m\n",
      "\u001b[0;31mValueError\u001b[0m: shape mismatch: value array of shape (4984,) could not be broadcast to indexing result of shape (4950,)"
     ]
    }
   ],
   "source": [
    "FC_reduction.plot_mad_reduction('references/scorr05_2level_names_100.csv',\n",
    "                                'FC_mat'                               \n",
    "                               )"
   ]
  }
 ],
 "metadata": {
  "kernelspec": {
   "display_name": "Python 3",
   "language": "python",
   "name": "python3"
  },
  "language_info": {
   "codemirror_mode": {
    "name": "ipython",
    "version": 3
   },
   "file_extension": ".py",
   "mimetype": "text/x-python",
   "name": "python",
   "nbconvert_exporter": "python",
   "pygments_lexer": "ipython3",
   "version": "3.7.5"
  }
 },
 "nbformat": 4,
 "nbformat_minor": 2
}
