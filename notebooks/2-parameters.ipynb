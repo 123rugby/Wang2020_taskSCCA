{
 "cells": [
  {
   "cell_type": "code",
   "execution_count": 1,
   "metadata": {},
   "outputs": [],
   "source": [
    "cd -q ~/TaskSCCA_craddock/"
   ]
  },
  {
   "cell_type": "code",
   "execution_count": 2,
   "metadata": {},
   "outputs": [],
   "source": [
    "import os\n",
    "\n",
    "import matplotlib.pyplot as plt\n",
    "import matplotlib.patches as patches\n",
    "\n",
    "import numpy as np\n",
    "\n",
    "from nilearn.plotting import cm\n",
    "\n",
    "import pandas as pd\n",
    "\n",
    "from sklearn.model_selection import ParameterGrid, KFold, train_test_split\n",
    "\n",
    "# retrieve data\n",
    "# define global variables\n",
    "from src.pypma import SCCA\n",
    "from src.visualize import set_text_size, write_pdf\n",
    "from src.utils import unflatten, save_pkl"
   ]
  },
  {
   "cell_type": "code",
   "execution_count": 3,
   "metadata": {},
   "outputs": [],
   "source": [
    "X_clean = np.load('data/processed/X_clean.npy')\n",
    "Y_clean = np.load('data/processed/Y_clean.npy')"
   ]
  },
  {
   "cell_type": "markdown",
   "metadata": {},
   "source": [
    "# Parameter selection"
   ]
  },
  {
   "cell_type": "code",
   "execution_count": 4,
   "metadata": {},
   "outputs": [],
   "source": [
    "def sparse_parameter_selection(X, Y, n_fold, seed=1):\n",
    "    '''\n",
    "    Combine grid search and cross-validation for sparse parameter selection\n",
    "    '''\n",
    "    # find the best parameter on the first canonical variate\n",
    "    # find the smallest p_FDR\n",
    "    param_grid = {'C_x': np.array(range(1, 11)) * 0.1,\n",
    "                    'C_y': np.array(range(1, 11)) * 0.1}\n",
    "\n",
    "    param_grid = ParameterGrid(param_grid)\n",
    "\n",
    "    # set random seed\n",
    "    np.random.seed(seed)\n",
    "    resample = n_fold\n",
    "    # cross-validation on the disocery set to get the penalties\n",
    "    para_search = np.zeros((10, 10))\n",
    "\n",
    "    for j, parameters in enumerate(iter(param_grid)):\n",
    "\n",
    "        para_idx = np.unravel_index(j, para_search.shape) # (C_x,C_y)\n",
    "        model = SCCA(C=[parameters['C_x'], parameters['C_y']],\n",
    "                        penalty=['l1', 'l1'],n_component=1, verbose=False)\n",
    "        dj_best = 0\n",
    "        kf = KFold(n_splits=resample, shuffle=True)\n",
    "        for i, (train_index, test_index) in enumerate(kf.split(X_clean)):\n",
    "            X_train, X_test = X_clean[train_index, :], X_clean[test_index, :]\n",
    "            Y_train, Y_test = Y_clean[train_index, :], Y_clean[test_index, :]\n",
    "\n",
    "            model.fit(X_train, Y_train)\n",
    "            d_j = model.score(X_test, Y_test)\n",
    "\n",
    "            if d_j > para_search[para_idx]:\n",
    "                para_search[para_idx] = d_j\n",
    "                \n",
    "    d_sig = np.max(para_search)\n",
    "    d_idx = np.argwhere(para_search == d_sig)\n",
    "    C = 0.1 * (d_idx + 1)[0]\n",
    "    print('Best parameters based on cross-validation:', C)\n",
    "    print('Canonical correlation:', d_sig)\n",
    "    \n",
    "    return para_search, C"
   ]
  },
  {
   "cell_type": "code",
   "execution_count": 5,
   "metadata": {},
   "outputs": [],
   "source": [
    "# plotting\n",
    "def plot_parameter_search(para_search, x_lab, y_lab, fig_name):\n",
    "    \n",
    "    title = 'Sparsity Parameter Search'\n",
    "\n",
    "    set_text_size(12)\n",
    "\n",
    "    fig,ax = plt.subplots()\n",
    "    hm = ax.imshow(para_search.T, vmin=para_search.min(), vmax=para_search.max())\n",
    "    plt.xticks(range(10), np.around(np.array(range(1, 11)) * 0.1, decimals=1))\n",
    "    plt.yticks(range(10), np.around(np.array(range(1, 11)) * 0.1, decimals=1))\n",
    "    plt.xlabel(x_lab)\n",
    "    plt.ylabel(y_lab)\n",
    "    plt.title(title)\n",
    "    plt.colorbar(hm, label='Canonical Correlation')\n",
    "    # Create a Rectangle patch\n",
    "\n",
    "    d_sig = np.max(para_search)\n",
    "    d_idx = np.argwhere(para_search == d_sig)\n",
    "    rect = patches.Rectangle(d_idx[0] - 0.5, 1, 1,linewidth=2,edgecolor='r',facecolor='none')\n",
    "    # Add the patch to the Axes\n",
    "    ax.add_patch(rect)\n",
    "    plt.savefig(fig_name, dpi=300)\n",
    "    plt.show()\n",
    "    plt.close()"
   ]
  },
  {
   "cell_type": "code",
   "execution_count": 6,
   "metadata": {},
   "outputs": [
    {
     "name": "stdout",
     "output_type": "stream",
     "text": [
      "Best parameters based on cross-validation: [0.4 0.6]\n",
      "Canonical correlation: 0.5163762374335092\n"
     ]
    }
   ],
   "source": [
    "para_search, C = sparse_parameter_selection(X_clean, Y_clean, n_fold=5, seed=1)"
   ]
  },
  {
   "cell_type": "code",
   "execution_count": 7,
   "metadata": {},
   "outputs": [
    {
     "name": "stderr",
     "output_type": "stream",
     "text": [
      "/home/hw1012/TaskSCCA_craddock/env/lib/python3.7/site-packages/matplotlib/font_manager.py:1241: UserWarning: findfont: Font family ['sans-serif'] not found. Falling back to DejaVu Sans.\n",
      "  (prop.get_family(), self.defaultFamily[fontext]))\n",
      "/home/hw1012/TaskSCCA_craddock/env/lib/python3.7/site-packages/matplotlib/font_manager.py:1241: UserWarning: findfont: Font family ['sans-serif'] not found. Falling back to DejaVu Sans.\n",
      "  (prop.get_family(), self.defaultFamily[fontext]))\n"
     ]
    },
    {
     "data": {
      "image/png": "[encoded data removed]",
      "text/plain": [
       "<Figure size 432x288 with 2 Axes>"
      ]
     },
     "metadata": {
      "needs_background": "light"
     },
     "output_type": "display_data"
    }
   ],
   "source": [
    "plot_parameter_search(para_search, 'Functional connectivity', 'Cognitive tasks', 'reports/figures/parameter_search.png')"
   ]
  },
  {
   "cell_type": "code",
   "execution_count": 8,
   "metadata": {},
   "outputs": [],
   "source": [
    "# fit the real model here\n",
    "n_mod = 13\n",
    "model = SCCA(C=C, penalty=['l1', 'l1'],\n",
    "        n_component=n_mod, verbose=False)\n",
    "\n",
    "model.fit(X_clean, Y_clean)\n",
    "u, v, d = model.u, model.v, model._cancorr"
   ]
  },
  {
   "cell_type": "code",
   "execution_count": 9,
   "metadata": {
    "scrolled": true
   },
   "outputs": [
    {
     "name": "stdout",
     "output_type": "stream",
     "text": [
      "discovery p fdr:  [0.085 0.293 0.336 0.559 0.456 0.755 0.036 0.368 0.565 0.117 0.011 0.832\n",
      " 0.803]\n",
      "discovery sig:  [False False False False False False  True False False False  True False\n",
      " False]\n"
     ]
    }
   ],
   "source": [
    "# find the best mode\n",
    "# by calculating the FWE-corrected p-value based on false discovery rate\n",
    "permute = 1000\n",
    "alpha = 0.05\n",
    "\n",
    "permD = np.zeros((permute, n_mod))\n",
    "permU = np.zeros((permute, u.shape[0], n_mod))\n",
    "permV = np.zeros((permute, v.shape[0], n_mod))\n",
    "for i in range(permute):\n",
    "    per_idx = np.random.permutation(Y_clean.shape[0])\n",
    "    cur_y = Y_clean[per_idx, :]\n",
    "    perm_model = SCCA(C=C, penalty=['l1', 'l1'], n_component=n_mod, verbose=False)\n",
    "    perm_model.fit(X_clean, cur_y)\n",
    "    perm_d = perm_model._cancorr\n",
    "    permD[i, :] = perm_d\n",
    "\n",
    "# calculate the FWE-corrected p value\n",
    "p_j = (1 + np.sum(d < np.repeat(permD[1:, 0:1], n_mod, axis=1),0)) / float(permute)\n",
    "sig = p_j < alpha\n",
    "print('discovery p fdr: ', p_j)\n",
    "print('discovery sig: ', sig)"
   ]
  },
  {
   "cell_type": "code",
   "execution_count": 10,
   "metadata": {},
   "outputs": [],
   "source": [
    "# select the significant ones for this parameter set\n",
    "# sig_mod = {'can_corr': d[sig],\n",
    "#             'u'       : u[:, sig],\n",
    "#             'v'       : v[:, sig],\n",
    "#             'p_val'   : p_j[sig],\n",
    "#             'sig'     : sig\n",
    "#           }\n",
    "\n",
    "# save_pkl(sig_mod, 'models/sig_95th.pkl')\n",
    "# save_pkl(model, 'models/full_model_95th.pkl')"
   ]
  }
 ],
 "metadata": {
  "kernelspec": {
   "display_name": "Python 3",
   "language": "python",
   "name": "python3"
  },
  "language_info": {
   "codemirror_mode": {
    "name": "ipython",
    "version": 3
   },
   "file_extension": ".py",
   "mimetype": "text/x-python",
   "name": "python",
   "nbconvert_exporter": "python",
   "pygments_lexer": "ipython3",
   "version": "3.6.8"
  }
 },
 "nbformat": 4,
 "nbformat_minor": 4
}
