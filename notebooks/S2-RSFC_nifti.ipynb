{
 "cells": [
  {
   "cell_type": "code",
   "execution_count": 1,
   "metadata": {},
   "outputs": [],
   "source": [
    "cd -q ~/research/Project_TaskSCCA/"
   ]
  },
  {
   "cell_type": "code",
   "execution_count": 2,
   "metadata": {},
   "outputs": [],
   "source": [
    "import re \n",
    "\n",
    "import pickle\n",
    "import pandas as pd\n",
    "import numpy as np\n",
    "import seaborn as sns\n",
    "import matplotlib.pyplot as plt\n",
    "from nilearn.plotting import cm\n",
    "from nilearn import plotting\n",
    "\n",
    "from src.utils import unflatten, save_pkl, load_pkl\n",
    "from src.visualize import set_text_size\n",
    "\n",
    "sns.set_style({\"font.sans-serif\": [\"Arial\"]})\n",
    "sns.set_context('paper', font_scale=1.5)"
   ]
  },
  {
   "cell_type": "code",
   "execution_count": 3,
   "metadata": {},
   "outputs": [],
   "source": [
    "def get_primary(x):\n",
    "    list_name = re.findall(\"[a-zA-Z]+\", x)\n",
    "    if len(list_name) == 1:\n",
    "        prim = list_name[0] \n",
    "        \n",
    "    elif list_name[0] == 'None':\n",
    "            prim = list_name[1]\n",
    "    else:\n",
    "        prim = list_name[0]\n",
    "    return prim\n",
    "\n",
    "def sort_by_yeo7(mat):\n",
    "    \n",
    "    def get_ticks():\n",
    "        ticks = [1]\n",
    "        ticklabels = ['Default']\n",
    "        for i in range(100):\n",
    "            cur = label_names_yeo7.iloc[i, 3]\n",
    "            if ticklabels[-1] != cur:\n",
    "                ticks.append(i + 1)\n",
    "                ticklabels.append(cur)\n",
    "        return ticks\n",
    "    \n",
    "    label_names = pd.read_csv('references/scorr05_2level_names_100.csv')\n",
    "    \n",
    "    label_names['Yeo7'] = label_names['Yeo-Krienen 7 networks'].apply(get_primary)\n",
    "    label_names = label_names.sort_values('Yeo7')\n",
    "    label_names_yeo7 = label_names.iloc[:, [0, 1, -1]].reset_index()\n",
    "\n",
    "    tmp = pd.DataFrame(mat, index=range(1, 101), columns=range(1, 101))\n",
    "    idx = label_names_yeo7.index.tolist()\n",
    "    reorder = tmp.reindex(index=idx, columns=idx)\n",
    "    ticks = get_ticks()\n",
    "    ticklabels = ['DMN', 'DAN', 'FPN', 'LIM', 'None', 'S-M', 'VAN', 'VIS']\n",
    "    return reorder.values, ticks, ticklabels\n",
    "\n",
    "def percentage_in_yeo7 (ticks, ticklabels, cluster_list):\n",
    "    '''\n",
    "    ticks, ticklabels: \n",
    "        outputs from funciton sort_by_yeo7\n",
    "    cluster_list: \n",
    "        a list containing 1s and 0s indicating \n",
    "        wheather this cluster overlaps with any Yeo 7 networks\n",
    "    '''\n",
    "    n = len(ticklabels)\n",
    "    df = pd.DataFrame(np.zeros((n, 1)), index=ticklabels)\n",
    "    yeo_idx = np.array(ticks) - 1  #the ticks were 1-index\n",
    "    for i in range(n):\n",
    "        try:\n",
    "            df.loc[ticklabels[i], 0] = \\\n",
    "            cluster_list[yeo_idx[i]:yeo_idx[i + 1]].sum()\n",
    "        except:\n",
    "            df.loc[ticklabels[i], 0] = \\\n",
    "            cluster_list[yeo_idx[i]:].sum()\n",
    "\n",
    "    df = df.sort_values(0).T\n",
    "    return df"
   ]
  },
  {
   "cell_type": "code",
   "execution_count": 4,
   "metadata": {},
   "outputs": [],
   "source": [
    "def stacked_percentage_bar(df, color, fn):\n",
    "    '''\n",
    "    df: pandas dataframe with one row containing the count of each category.\n",
    "    color: color palette\n",
    "    fn: file name for saving the figure\n",
    "    '''\n",
    "    df = df / df.sum(axis=1).values[0] * 100\n",
    "    df.plot.bar(stacked=True,\n",
    "                width=0.5,\n",
    "                color=color, \n",
    "                legend=False)\n",
    "    plt.title('Percentage of common clusters \\noverlapping with Yeo\\'s7 networks' )\n",
    "    sns.despine(left=True, bottom=True, trim=True)\n",
    "    for i, c in enumerate(df):\n",
    "        p = np.round(float(df[c].values), 1)\n",
    "        if p > 0:\n",
    "            anno_y = (df.iloc[0, : i + 1 ].values.sum() + df.iloc[0, : i].values.sum()) / 2\n",
    "            plt.annotate('{}: {}%'.format(c, p), (0.28, anno_y), rotation=0)\n",
    "    plt.xticks([])\n",
    "    plt.yticks([])\n",
    "    plt.tight_layout()\n",
    "    plt.savefig(fn, dpi=300, transparent=True)"
   ]
  },
  {
   "cell_type": "code",
   "execution_count": 5,
   "metadata": {},
   "outputs": [],
   "source": [
    "import nibabel as nib\n",
    "cradock_label_nii = nib.load('references/craddock_scorr_2level_0010_2mm.nii.gz')"
   ]
  },
  {
   "cell_type": "code",
   "execution_count": 6,
   "metadata": {},
   "outputs": [],
   "source": [
    "X_clean = np.load('data/processed/X_clean.npy')\n",
    "Y_clean = np.load('data/processed/Y_clean.npy')\n",
    "X_mask = np.load('data/processed/X_mask.npy')\n",
    "sig_mod = load_pkl('models/sig_95th.pkl')\n",
    "model = load_pkl('models/full_model_95th.pkl')\n",
    "\n",
    "path_master = 'data/interim/df_master_p178.pkl'\n",
    "df_master = pd.read_pickle(path_master)\n",
    "task_labels = ['Digit Span', 'Verbal Fluency', 'Picture Naming',\n",
    "                'TS-Flexibility', 'TS-Inhibition', 'Four Mountains',\n",
    "                'Unusual Uses', 'RAPM', 'Paired Associate',\n",
    "                'Semantics - Strength', 'Semantics - Modality',\n",
    "                'Semantics - Specificity', 'Semantics - Feature Matching'\n",
    "                ]\n",
    "\n",
    "df_es = pd.read_pickle('./data/interim/CS_MWQ_prepro.pkl')"
   ]
  },
  {
   "cell_type": "markdown",
   "metadata": {},
   "source": [
    "# Reconstruct the connectivity matrix"
   ]
  },
  {
   "cell_type": "code",
   "execution_count": 11,
   "metadata": {},
   "outputs": [],
   "source": [
    "u_sig = sig_mod['u']\n",
    "X_mask = X_mask.astype('int')\n",
    "\n",
    "recon = []\n",
    "for c in range(2):\n",
    "    bin_mask = []\n",
    "    i_mask = 0\n",
    "    cur = u_sig[:, c]\n",
    "    for label, vol in enumerate(X_mask):\n",
    "        if vol == 1:\n",
    "            val = cur[i_mask]\n",
    "            i_mask += 1\n",
    "            \n",
    "        else:\n",
    "            val = 0\n",
    "        bin_mask.append(val)\n",
    "    mat = unflatten(np.array(bin_mask))\n",
    "    recon.append(mat)\n",
    "    np.savetxt(f\"reports/manuscript/mode_{c+1}_brain.txt\", mat, fmt='%.6f')"
   ]
  },
  {
   "cell_type": "markdown",
   "metadata": {},
   "source": [
    "# Plot FC matrices"
   ]
  },
  {
   "cell_type": "code",
   "execution_count": 8,
   "metadata": {},
   "outputs": [],
   "source": [
    "def plot_common_connectivity(common_edge, title, filename=None):\n",
    "    fig, ax= plt.subplots(1, 1, figsize=(5, 5))\n",
    "\n",
    "    mat, ticks, ticklabels = sort_by_yeo7(common_edge)\n",
    "\n",
    "    sns.heatmap(mat, cbar=False,\n",
    "                square=True, annot=False,\n",
    "                ax=ax)\n",
    "\n",
    "    ax.set_title(title)\n",
    "\n",
    "    ax.hlines(ticks[1:], *ax.get_xlim(), color='w', lw=0.5)\n",
    "    ax.vlines(ticks[1:], *ax.get_ylim(), color='w', lw=0.5)\n",
    "\n",
    "    ax.set_xticks(ticks)\n",
    "    ax.set_xticklabels(ticklabels)\n",
    "    ax.set_yticks(ticks)\n",
    "    ax.set_yticklabels(ticklabels)\n",
    "    \n",
    "    if type(filename) is str:\n",
    "        fig.savefig(filename, dpi=300, transparent=True)\n",
    "    plt.show()\n",
    "    plt.close()\n",
    "\n",
    "def cluster_summary_nii(cluster_label_nii, common_clusters, filename=None):\n",
    "    # nifti\n",
    "    labels = cluster_label_nii.get_data()\n",
    "    tmp = np.zeros(labels.shape)\n",
    "    for i in range(100):\n",
    "        cluster = ( labels == i + 1 ).astype('int') * common_clusters[i]\n",
    "        tmp += cluster\n",
    "\n",
    "    nii = nib.Nifti1Image(tmp, cluster_label_nii.affine, header=cluster_label_nii.header)\n",
    "    if type(filename) is str:\n",
    "        nib.save(nii, filename)\n",
    "    return nii"
   ]
  },
  {
   "cell_type": "code",
   "execution_count": 9,
   "metadata": {},
   "outputs": [
    {
     "data": {
      "image/png": "[encoded data removed]",
      "text/plain": [
       "<Figure size 360x720 with 4 Axes>"
      ]
     },
     "metadata": {
      "needs_background": "light"
     },
     "output_type": "display_data"
    }
   ],
   "source": [
    "# plotting\n",
    "fig, axarr= plt.subplots(2, 1, figsize=(5, 10))\n",
    "\n",
    "for i, mat in enumerate(recon):\n",
    "    mat, ticks, ticklabels = sort_by_yeo7(mat)\n",
    "    \n",
    "    loc_x, loc_y = np.unravel_index(i, (2,1))\n",
    "    ax_cur = axarr[loc_x]\n",
    "        \n",
    "    sns.heatmap(mat, center=0,\n",
    "                    square=True, annot=False,\n",
    "                    cbar_kws={'label': 'Canonical variates'},\n",
    "                    cmap='cold_hot', ax=ax_cur)\n",
    "    \n",
    "    ax_cur.set_title('Component {}'.format(i + 1))\n",
    "\n",
    "    ax_cur.hlines(ticks[1:], *ax_cur.get_xlim(), color='w', lw=0.5)\n",
    "    ax_cur.vlines(ticks[1:], *ax_cur.get_ylim(), color='w', lw=0.5)\n",
    "\n",
    "    ax_cur.set_xticks(ticks)\n",
    "    ax_cur.set_xticklabels(ticklabels)\n",
    "    ax_cur.set_yticks(ticks)\n",
    "    ax_cur.set_yticklabels(ticklabels)\n",
    "\n",
    "# fig.savefig('reports/figures/cca_FC_loading.png', dpi=300, transparent=True)\n",
    "plt.show()\n",
    "plt.close()"
   ]
  },
  {
   "cell_type": "markdown",
   "metadata": {},
   "source": [
    "## Create complimentary whole brain map per component\n",
    "Average all edges values"
   ]
  },
  {
   "cell_type": "code",
   "execution_count": 52,
   "metadata": {},
   "outputs": [
    {
     "name": "stderr",
     "output_type": "stream",
     "text": [
      "/home/hw1012/research/Project_TaskSCCA/env/lib/python3.6/site-packages/ipykernel_launcher.py:3: RuntimeWarning: invalid value encountered in true_divide\n",
      "  This is separate from the ipykernel package so we can avoid doing imports until\n"
     ]
    }
   ],
   "source": [
    "for c, mat in enumerate(recon):\n",
    "    cur = np.zeros(cradock_label_nii.shape)\n",
    "    avg_mat = mat.mean_(axis=0) / (mat!=0).astype(int).sum(axis=0)  # average canonical vector values when not 0\n",
    "    mat = np.nan_to_num(avg_mat)\n",
    "    for i in range(100):\n",
    "        cluster = ( cradock_label_nii.get_data() == i + 1 ).astype('int') * mat[i]\n",
    "        cur += cluster\n",
    "    cur = nib.Nifti1Image(cur, cradock_label_nii.affine, header=cradock_label_nii.header)\n",
    "    nib.save(cur, 'reports/figures/CCA/niftis/scca_mode{:}_mean.nii.gz'.format(c + 1))"
   ]
  },
  {
   "cell_type": "markdown",
   "metadata": {},
   "source": [
    "## positive edges only"
   ]
  },
  {
   "cell_type": "code",
   "execution_count": 53,
   "metadata": {},
   "outputs": [
    {
     "name": "stderr",
     "output_type": "stream",
     "text": [
      "/home/hw1012/research/Project_TaskSCCA/env/lib/python3.6/site-packages/ipykernel_launcher.py:3: RuntimeWarning: invalid value encountered in true_divide\n",
      "  This is separate from the ipykernel package so we can avoid doing imports until\n"
     ]
    }
   ],
   "source": [
    "for c, mat in enumerate(recon):\n",
    "    cur = np.zeros(cradock_label_nii.shape)\n",
    "    avg_mat = (mat * (mat > 0).astype(int)).sum(axis=0) / (mat > 0).astype(int).sum(axis=0)  # average canonical vector values when not 0\n",
    "    mat = np.nan_to_num(avg_mat)\n",
    "    for i in range(100):\n",
    "        cluster = ( cradock_label_nii.get_data() == i + 1 ).astype('int') * mat[i]\n",
    "        cur += cluster\n",
    "    cur = nib.Nifti1Image(cur, cradock_label_nii.affine, header=cradock_label_nii.header)\n",
    "    nib.save(cur, 'reports/figures/CCA/niftis/scca_mode{:}_positive_mean.nii.gz'.format(c + 1))"
   ]
  },
  {
   "cell_type": "markdown",
   "metadata": {},
   "source": [
    "## negative edges only"
   ]
  },
  {
   "cell_type": "code",
   "execution_count": 51,
   "metadata": {},
   "outputs": [
    {
     "name": "stderr",
     "output_type": "stream",
     "text": [
      "/home/hw1012/research/Project_TaskSCCA/env/lib/python3.6/site-packages/ipykernel_launcher.py:3: RuntimeWarning: invalid value encountered in true_divide\n",
      "  This is separate from the ipykernel package so we can avoid doing imports until\n"
     ]
    }
   ],
   "source": [
    "for c, mat in enumerate(recon):\n",
    "    cur = np.zeros(cradock_label_nii.shape)\n",
    "    avg_mat = (mat * (mat < 0).astype(int)).sum(axis=0) / (mat < 0).astype(int).sum(axis=0)  # average canonical vector values when not 0\n",
    "    mat = np.nan_to_num(avg_mat)    \n",
    "    for i in range(100):\n",
    "        cluster = ( cradock_label_nii.get_data() == i + 1 ).astype('int') * mat[i]\n",
    "        cur += cluster\n",
    "    cur = nib.Nifti1Image(cur, cradock_label_nii.affine, header=cradock_label_nii.header)\n",
    "    nib.save(cur, 'reports/figures/CCA/niftis/scca_mode{:}_negative_mean.nii.gz'.format(c + 1))"
   ]
  },
  {
   "cell_type": "code",
   "execution_count": 28,
   "metadata": {},
   "outputs": [],
   "source": [
    "%%bash\n",
    "wb_command -volume-to-surface-mapping \\\n",
    "    \"reports/figures/CCA/niftis/scca_mode2_positive_mean.nii.gz\" \\\n",
    "    \"reports/figures/CCA/niftis/surface_display/lh.midthickness.5k_fs_LR.surf.gii\" \\\n",
    "    \"reports/figures/CCA/niftis/surface_display/lh.scca_mode2_positive_mean.func.gii\" \\\n",
    "    -ribbon-constrained \\\n",
    "    ${OUTDIR}/${HEMI}.white.MNI.surf.gii \\\n",
    "    ${OUTDIR}/${HEMI}.pial.MNI.surf.gii \\\n",
    "    -volume-roi ${TMPDIR}/goodvoxels.nii.gz\n",
    "    \n",
    "wb_command -volume-to-surface-mapping \\\n",
    "    \"reports/figures/CCA/niftis/scca_mode2_positive_mean.nii.gz\" \\\n",
    "    \"reports/figures/CCA/niftis/surface_display/rh.midthickness.5k_fs_LR.surf.gii\" \\\n",
    "    \"reports/figures/CCA/niftis/surface_display/rh.scca_mode2_positive_mean.func.gii\" \\\n",
    "    -enclosing\n",
    "    \n",
    "wb_command -volume-to-surface-mapping \\\n",
    "    \"reports/figures/CCA/niftis/scca_mode2_negative_mean.nii.gz\" \\\n",
    "    \"reports/figures/CCA/niftis/surface_display/lh.midthickness.5k_fs_LR.surf.gii\" \\\n",
    "    \"reports/figures/CCA/niftis/surface_display/lh.scca_mode2_negative_mean.func.gii\" \\\n",
    "    -enclosing\n",
    "    \n",
    "wb_command -volume-to-surface-mapping \\\n",
    "    \"reports/figures/CCA/niftis/scca_mode2_negative_mean.nii.gz\" \\\n",
    "    \"reports/figures/CCA/niftis/surface_display/rh.midthickness.5k_fs_LR.surf.gii\" \\\n",
    "    \"reports/figures/CCA/niftis/surface_display/rh.scca_mode2_negative_mean.func.gii\" \\\n",
    "    -enclosing"
   ]
  },
  {
   "cell_type": "code",
   "execution_count": null,
   "metadata": {},
   "outputs": [],
   "source": []
  }
 ],
 "metadata": {
  "kernelspec": {
   "display_name": "Python 3",
   "language": "python",
   "name": "python3"
  },
  "language_info": {
   "codemirror_mode": {
    "name": "ipython",
    "version": 3
   },
   "file_extension": ".py",
   "mimetype": "text/x-python",
   "name": "python",
   "nbconvert_exporter": "python",
   "pygments_lexer": "ipython3",
   "version": "3.6.8"
  }
 },
 "nbformat": 4,
 "nbformat_minor": 4
}
